{
 "cells": [
  {
   "cell_type": "code",
   "execution_count": 1,
   "id": "67b4717e-1774-490c-aba4-bcf627a63be3",
   "metadata": {},
   "outputs": [],
   "source": [
    "import pandas as pd"
   ]
  },
  {
   "cell_type": "markdown",
   "id": "26c043be-4cf5-402b-9289-81fce9349c3c",
   "metadata": {},
   "source": [
    "# Raw Data Summary"
   ]
  },
  {
   "cell_type": "code",
   "execution_count": 2,
   "id": "22a7ab69-3cbc-471d-bce6-3ee5d5df65ff",
   "metadata": {},
   "outputs": [],
   "source": [
    "top_repos_raw = pd.read_csv(\"../data/scraped/top-repos.csv\", parse_dates=[\"created\"])\n",
    "user_data_raw = pd.read_csv(\"../data/scraped/user-data.csv\", parse_dates=[\"created\"])\n",
    "top_user_repos_raw = pd.read_csv(\"../data/scraped/top-user-repos.csv\", parse_dates=[\"created\"])\n",
    "top_org_repos_raw = pd.read_csv(\"../data/scraped/top-org-repos.csv\", parse_dates=[\"created\"])"
   ]
  },
  {
   "cell_type": "code",
   "execution_count": 3,
   "id": "8a630e24-fe9d-41aa-b114-8bb586231b0c",
   "metadata": {},
   "outputs": [
    {
     "name": "stdout",
     "output_type": "stream",
     "text": [
      "<class 'pandas.core.frame.DataFrame'>\n",
      "RangeIndex: 2000 entries, 0 to 1999\n",
      "Data columns (total 14 columns):\n",
      " #   Column       Non-Null Count  Dtype         \n",
      "---  ------       --------------  -----         \n",
      " 0   id           2000 non-null   int64         \n",
      " 1   repo_name    2000 non-null   object        \n",
      " 2   full_name    2000 non-null   object        \n",
      " 3   description  1976 non-null   object        \n",
      " 4   created      2000 non-null   datetime64[ns]\n",
      " 5   language     1709 non-null   object        \n",
      " 6   type         2000 non-null   object        \n",
      " 7   username     2000 non-null   object        \n",
      " 8   stars        2000 non-null   int64         \n",
      " 9   forks        2000 non-null   int64         \n",
      " 10  subscribers  2000 non-null   int64         \n",
      " 11  open_issues  2000 non-null   int64         \n",
      " 12  topics       2000 non-null   object        \n",
      " 13  subject      2000 non-null   object        \n",
      "dtypes: datetime64[ns](1), int64(5), object(8)\n",
      "memory usage: 218.9+ KB\n"
     ]
    }
   ],
   "source": [
    "top_repos_raw.info()"
   ]
  },
  {
   "cell_type": "code",
   "execution_count": 4,
   "id": "94848915-3eea-4975-b049-6b9f370ad7a7",
   "metadata": {},
   "outputs": [
    {
     "name": "stdout",
     "output_type": "stream",
     "text": [
      "<class 'pandas.core.frame.DataFrame'>\n",
      "RangeIndex: 2000 entries, 0 to 1999\n",
      "Data columns (total 15 columns):\n",
      " #   Column        Non-Null Count  Dtype         \n",
      "---  ------        --------------  -----         \n",
      " 0   id            2000 non-null   int64         \n",
      " 1   username      2000 non-null   object        \n",
      " 2   name          1810 non-null   object        \n",
      " 3   type          2000 non-null   object        \n",
      " 4   bio           1318 non-null   object        \n",
      " 5   created       2000 non-null   datetime64[ns]\n",
      " 6   company       723 non-null    object        \n",
      " 7   email         961 non-null    object        \n",
      " 8   location      1318 non-null   object        \n",
      " 9   hireable      383 non-null    object        \n",
      " 10  followers     2000 non-null   int64         \n",
      " 11  following     2000 non-null   int64         \n",
      " 12  public_gists  2000 non-null   int64         \n",
      " 13  public_repos  2000 non-null   int64         \n",
      " 14  subject       2000 non-null   object        \n",
      "dtypes: datetime64[ns](1), int64(5), object(9)\n",
      "memory usage: 234.5+ KB\n"
     ]
    }
   ],
   "source": [
    "user_data_raw.info()"
   ]
  },
  {
   "cell_type": "code",
   "execution_count": 5,
   "id": "5389964f-ae71-4f81-b757-2c01a41ec3a7",
   "metadata": {},
   "outputs": [
    {
     "name": "stdout",
     "output_type": "stream",
     "text": [
      "<class 'pandas.core.frame.DataFrame'>\n",
      "RangeIndex: 1537 entries, 0 to 1536\n",
      "Data columns (total 13 columns):\n",
      " #   Column       Non-Null Count  Dtype         \n",
      "---  ------       --------------  -----         \n",
      " 0   id           1537 non-null   int64         \n",
      " 1   repo_name    1537 non-null   object        \n",
      " 2   full_name    1537 non-null   object        \n",
      " 3   description  1190 non-null   object        \n",
      " 4   created      1537 non-null   datetime64[ns]\n",
      " 5   language     1284 non-null   object        \n",
      " 6   type         1537 non-null   object        \n",
      " 7   username     1537 non-null   object        \n",
      " 8   stars        1537 non-null   int64         \n",
      " 9   forks        1537 non-null   int64         \n",
      " 10  subscribers  1537 non-null   int64         \n",
      " 11  open_issues  1537 non-null   int64         \n",
      " 12  topics       1537 non-null   object        \n",
      "dtypes: datetime64[ns](1), int64(5), object(7)\n",
      "memory usage: 156.2+ KB\n"
     ]
    }
   ],
   "source": [
    "top_user_repos_raw.info()"
   ]
  },
  {
   "cell_type": "code",
   "execution_count": 6,
   "id": "2a8953db-44e4-49cd-b070-65d3a34257e9",
   "metadata": {},
   "outputs": [
    {
     "name": "stdout",
     "output_type": "stream",
     "text": [
      "<class 'pandas.core.frame.DataFrame'>\n",
      "RangeIndex: 6252 entries, 0 to 6251\n",
      "Data columns (total 13 columns):\n",
      " #   Column       Non-Null Count  Dtype         \n",
      "---  ------       --------------  -----         \n",
      " 0   id           6252 non-null   int64         \n",
      " 1   repo_name    6252 non-null   object        \n",
      " 2   full_name    6252 non-null   object        \n",
      " 3   description  5696 non-null   object        \n",
      " 4   created      6252 non-null   datetime64[ns]\n",
      " 5   language     5532 non-null   object        \n",
      " 6   type         6252 non-null   object        \n",
      " 7   username     6252 non-null   object        \n",
      " 8   stars        6252 non-null   int64         \n",
      " 9   forks        6252 non-null   int64         \n",
      " 10  subscribers  6252 non-null   int64         \n",
      " 11  open_issues  6252 non-null   int64         \n",
      " 12  topics       6252 non-null   object        \n",
      "dtypes: datetime64[ns](1), int64(5), object(7)\n",
      "memory usage: 635.1+ KB\n"
     ]
    }
   ],
   "source": [
    "top_org_repos_raw.info()"
   ]
  },
  {
   "cell_type": "markdown",
   "id": "16664f75-f45a-40a6-8c7f-d5b9a10f9f20",
   "metadata": {},
   "source": [
    "# Cleaned Data Summary"
   ]
  },
  {
   "cell_type": "code",
   "execution_count": 7,
   "id": "2d83d427-60d6-4ae5-989f-9dd1769217e8",
   "metadata": {},
   "outputs": [],
   "source": [
    "top_repos = pd.read_csv(\"../data/cleaned/top-repos.csv\", parse_dates=[\"created\"])\n",
    "user_data = pd.read_csv(\"../data/cleaned/user-data.csv\", parse_dates=[\"created\"])\n",
    "top_user_repos = pd.read_csv(\"../data/cleaned/top-user-repos.csv\", parse_dates=[\"created\"])\n",
    "top_org_repos = pd.read_csv(\"../data/cleaned/top-org-repos.csv\", parse_dates=[\"created\"])\n",
    "location_df = pd.read_csv(\"../data/cleaned/user-location-data.csv\", parse_dates=[\"created\"])"
   ]
  },
  {
   "cell_type": "code",
   "execution_count": 8,
   "id": "93e494d9-3630-48b4-8c05-f3adae666e26",
   "metadata": {},
   "outputs": [
    {
     "name": "stdout",
     "output_type": "stream",
     "text": [
      "<class 'pandas.core.frame.DataFrame'>\n",
      "RangeIndex: 1822 entries, 0 to 1821\n",
      "Data columns (total 14 columns):\n",
      " #   Column       Non-Null Count  Dtype         \n",
      "---  ------       --------------  -----         \n",
      " 0   id           1822 non-null   int64         \n",
      " 1   repo_name    1822 non-null   object        \n",
      " 2   full_name    1822 non-null   object        \n",
      " 3   description  1798 non-null   object        \n",
      " 4   created      1822 non-null   datetime64[ns]\n",
      " 5   language     1579 non-null   object        \n",
      " 6   type         1822 non-null   object        \n",
      " 7   username     1822 non-null   object        \n",
      " 8   stars        1822 non-null   int64         \n",
      " 9   forks        1822 non-null   int64         \n",
      " 10  subscribers  1822 non-null   int64         \n",
      " 11  open_issues  1822 non-null   int64         \n",
      " 12  topics       1134 non-null   object        \n",
      " 13  subject      1822 non-null   object        \n",
      "dtypes: datetime64[ns](1), int64(5), object(8)\n",
      "memory usage: 199.4+ KB\n"
     ]
    }
   ],
   "source": [
    "top_repos.info()"
   ]
  },
  {
   "cell_type": "code",
   "execution_count": 9,
   "id": "2c50e35f-f8b8-4752-b79d-05d07065e54f",
   "metadata": {},
   "outputs": [
    {
     "name": "stdout",
     "output_type": "stream",
     "text": [
      "<class 'pandas.core.frame.DataFrame'>\n",
      "RangeIndex: 1492 entries, 0 to 1491\n",
      "Data columns (total 15 columns):\n",
      " #   Column        Non-Null Count  Dtype         \n",
      "---  ------        --------------  -----         \n",
      " 0   id            1492 non-null   int64         \n",
      " 1   username      1492 non-null   object        \n",
      " 2   name          1344 non-null   object        \n",
      " 3   type          1492 non-null   object        \n",
      " 4   bio           963 non-null    object        \n",
      " 5   created       1492 non-null   datetime64[ns]\n",
      " 6   company       570 non-null    object        \n",
      " 7   email         697 non-null    object        \n",
      " 8   location      964 non-null    object        \n",
      " 9   hireable      306 non-null    object        \n",
      " 10  followers     1492 non-null   int64         \n",
      " 11  following     1492 non-null   int64         \n",
      " 12  public_gists  1492 non-null   int64         \n",
      " 13  public_repos  1492 non-null   int64         \n",
      " 14  subject       1492 non-null   object        \n",
      "dtypes: datetime64[ns](1), int64(5), object(9)\n",
      "memory usage: 175.0+ KB\n"
     ]
    }
   ],
   "source": [
    "user_data.info()"
   ]
  },
  {
   "cell_type": "code",
   "execution_count": 10,
   "id": "9083236f-a812-40f5-bda1-6a58eb832da2",
   "metadata": {},
   "outputs": [
    {
     "name": "stdout",
     "output_type": "stream",
     "text": [
      "<class 'pandas.core.frame.DataFrame'>\n",
      "RangeIndex: 1537 entries, 0 to 1536\n",
      "Data columns (total 13 columns):\n",
      " #   Column       Non-Null Count  Dtype         \n",
      "---  ------       --------------  -----         \n",
      " 0   id           1537 non-null   int64         \n",
      " 1   repo_name    1537 non-null   object        \n",
      " 2   full_name    1537 non-null   object        \n",
      " 3   description  1190 non-null   object        \n",
      " 4   created      1537 non-null   datetime64[ns]\n",
      " 5   language     1284 non-null   object        \n",
      " 6   type         1537 non-null   object        \n",
      " 7   username     1537 non-null   object        \n",
      " 8   stars        1537 non-null   int64         \n",
      " 9   forks        1537 non-null   int64         \n",
      " 10  subscribers  1537 non-null   int64         \n",
      " 11  open_issues  1537 non-null   int64         \n",
      " 12  topics       141 non-null    object        \n",
      "dtypes: datetime64[ns](1), int64(5), object(7)\n",
      "memory usage: 156.2+ KB\n"
     ]
    }
   ],
   "source": [
    "top_user_repos.info()"
   ]
  },
  {
   "cell_type": "code",
   "execution_count": 11,
   "id": "a5cabe18-8882-44ee-b8a5-e97fb927474c",
   "metadata": {},
   "outputs": [
    {
     "name": "stdout",
     "output_type": "stream",
     "text": [
      "<class 'pandas.core.frame.DataFrame'>\n",
      "RangeIndex: 6252 entries, 0 to 6251\n",
      "Data columns (total 13 columns):\n",
      " #   Column       Non-Null Count  Dtype         \n",
      "---  ------       --------------  -----         \n",
      " 0   id           6252 non-null   int64         \n",
      " 1   repo_name    6252 non-null   object        \n",
      " 2   full_name    6252 non-null   object        \n",
      " 3   description  5696 non-null   object        \n",
      " 4   created      6252 non-null   datetime64[ns]\n",
      " 5   language     5532 non-null   object        \n",
      " 6   type         6252 non-null   object        \n",
      " 7   username     6252 non-null   object        \n",
      " 8   stars        6252 non-null   int64         \n",
      " 9   forks        6252 non-null   int64         \n",
      " 10  subscribers  6252 non-null   int64         \n",
      " 11  open_issues  6252 non-null   int64         \n",
      " 12  topics       2809 non-null   object        \n",
      "dtypes: datetime64[ns](1), int64(5), object(7)\n",
      "memory usage: 635.1+ KB\n"
     ]
    }
   ],
   "source": [
    "top_org_repos.info()"
   ]
  },
  {
   "cell_type": "code",
   "execution_count": 12,
   "id": "927522ea-d76a-49cf-a9e1-7a448efbbf43",
   "metadata": {},
   "outputs": [
    {
     "name": "stdout",
     "output_type": "stream",
     "text": [
      "<class 'pandas.core.frame.DataFrame'>\n",
      "RangeIndex: 921 entries, 0 to 920\n",
      "Data columns (total 20 columns):\n",
      " #   Column        Non-Null Count  Dtype         \n",
      "---  ------        --------------  -----         \n",
      " 0   id            921 non-null    int64         \n",
      " 1   username      921 non-null    object        \n",
      " 2   name          889 non-null    object        \n",
      " 3   type          921 non-null    object        \n",
      " 4   bio           681 non-null    object        \n",
      " 5   created       921 non-null    datetime64[ns]\n",
      " 6   company       476 non-null    object        \n",
      " 7   email         525 non-null    object        \n",
      " 8   location      921 non-null    object        \n",
      " 9   hireable      246 non-null    object        \n",
      " 10  followers     921 non-null    int64         \n",
      " 11  following     921 non-null    int64         \n",
      " 12  public_gists  921 non-null    int64         \n",
      " 13  public_repos  921 non-null    int64         \n",
      " 14  subject       921 non-null    object        \n",
      " 15  geo-location  921 non-null    object        \n",
      " 16  latitude      921 non-null    float64       \n",
      " 17  longitude     921 non-null    float64       \n",
      " 18  country       921 non-null    object        \n",
      " 19  continent     921 non-null    object        \n",
      "dtypes: datetime64[ns](1), float64(2), int64(5), object(12)\n",
      "memory usage: 144.0+ KB\n"
     ]
    }
   ],
   "source": [
    "location_df.info()"
   ]
  }
 ],
 "metadata": {
  "kernelspec": {
   "display_name": "Python [conda env:top-repo-analysis]",
   "language": "python",
   "name": "conda-env-top-repo-analysis-py"
  },
  "language_info": {
   "codemirror_mode": {
    "name": "ipython",
    "version": 3
   },
   "file_extension": ".py",
   "mimetype": "text/x-python",
   "name": "python",
   "nbconvert_exporter": "python",
   "pygments_lexer": "ipython3",
   "version": "3.10.1"
  }
 },
 "nbformat": 4,
 "nbformat_minor": 5
}
